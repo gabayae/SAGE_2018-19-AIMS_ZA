{
 "cells": [
  {
   "cell_type": "markdown",
   "metadata": {
    "deletable": true,
    "editable": true
   },
   "source": [
    "<center>\n",
    "\n",
    "<h1>Starting to Program</h1>\n",
    "<h2>Day 02, <em>Experimental Mathematics with Sage</em>, AIMS-ZA 2018-19</h2>\n",
    "</H1>\n",
    "</center>\n",
    "\n",
    "<p>We've already been trying out some experimental mathematics; now it's time to see how one might start doing this with the computer.  Again, <em>please feel free to try things</em>.  Don't just try to follow the lecture.\n",
    "\n",
    "</p>\n",
    "\n",
    "<font size=\"3\" color=\"red\"> By the way, the acronym \"SAGE\" stands for “Software for Algebra and Geometry Experimentation”.</font>\n",
    "\n",
    "\n",
    "<p>We saw some proof earlier.  Let's start our exploration of programming by recalling a theorem some of you may not have known needs to be a theorem.</p>\n",
    "<p><strong>Theorem (Division Algorithm)</strong>:</p>\n",
    "<p>$$\\text{If }a\\text{ and }b\\text{ are integers, }b>0\\text{, then we can always write }a=qb+r\\text{ with }0\\leq r<b\\text{ and }q\\text{ an integer.}$$</p>\n",
    "<p>In words, if you divide an integer $a$ by a positive integer $b$, you will always get an integer remainder $r$ that is nonnegative, but less than $b$.  Further, the remainder is <em>unique</em>.</p>\n",
    "<ul>\n",
    "<li>For example, if $a=13,b=3$ then $$13=4\\cdot 3+1\\text{, so }q=4\\text{ and }r=1$$</li>\n",
    "</ul>\n",
    "<p>We can prove this using the definition of divisibility and the \"Well-Ordering Principle\", but I do not assume you are too familiar with induction and this principle.</p>\n",
    "<p>By the way, notice that this relates directly to something we proved earlier; in this event, $\\gcd(a,b)=\\gcd(b,r)$.  This leads directly to the Euclidean algorithm for computing the GCD.</p>\n",
    "<p>We can check this works using Sage.</p>"
   ]
  },
  {
   "cell_type": "markdown",
   "metadata": {},
   "source": [
    "The code a % b will return the remainder upon division of a by b. In other words, the\n",
    "result is the unique integer r such that (1) 0 ≤ r < b, and (2) a = bq + r for some integer\n",
    "q (the quotient), as guaranteed by the Division Algorithm. Then (a − r)/b\n",
    "will equal q. For example,"
   ]
  },
  {
   "cell_type": "code",
   "execution_count": null,
   "metadata": {
    "collapsed": false
   },
   "outputs": [],
   "source": [
    "r = 14 % 3\n",
    "r"
   ]
  },
  {
   "cell_type": "code",
   "execution_count": null,
   "metadata": {
    "collapsed": false
   },
   "outputs": [],
   "source": [
    "q = (14 - r ) /3\n",
    "q"
   ]
  },
  {
   "cell_type": "markdown",
   "metadata": {},
   "source": [
    "It is also possible to get both the quotient and remainder at the same time with the\n",
    "<button type=\"button\">.quo_rem()</button> method (quotient and remainder)."
   ]
  },
  {
   "cell_type": "code",
   "execution_count": null,
   "metadata": {
    "collapsed": false
   },
   "outputs": [],
   "source": [
    "a = 14\n",
    "b = 3\n",
    "a.quo_rem ( b )"
   ]
  },
  {
   "cell_type": "markdown",
   "metadata": {},
   "source": [
    "A remainder of zero indicates divisibility. So (a % b) == 0 will return True if b divides a, and will otherwise return False."
   ]
  },
  {
   "cell_type": "code",
   "execution_count": null,
   "metadata": {
    "collapsed": false
   },
   "outputs": [],
   "source": [
    "(20 % 5) == 0"
   ]
  },
  {
   "cell_type": "code",
   "execution_count": null,
   "metadata": {
    "collapsed": false
   },
   "outputs": [],
   "source": [
    "(17 % 4) == 0"
   ]
  },
  {
   "cell_type": "markdown",
   "metadata": {},
   "source": [
    "The <button type=\"button\">.divides()</button> method is another option:"
   ]
  },
  {
   "cell_type": "code",
   "execution_count": null,
   "metadata": {
    "collapsed": false
   },
   "outputs": [],
   "source": [
    "c = 5\n",
    "c.divides (20)"
   ]
  },
  {
   "cell_type": "code",
   "execution_count": null,
   "metadata": {
    "collapsed": false
   },
   "outputs": [],
   "source": [
    "d = 4\n",
    "d . divides (17)"
   ]
  },
  {
   "cell_type": "markdown",
   "metadata": {},
   "source": [
    "The greatest common divisor of a and b is obtained with the command <button type=\"button\">gcd(a, b)</button>, where\n",
    "in our first uses, a and b are integers. "
   ]
  },
  {
   "cell_type": "code",
   "execution_count": null,
   "metadata": {
    "collapsed": true
   },
   "outputs": [],
   "source": [
    "gcd (2776 , 2452)"
   ]
  },
  {
   "cell_type": "markdown",
   "metadata": {},
   "source": [
    "We can use the gcd command to determine if a pair of integers are relatively prime"
   ]
  },
  {
   "cell_type": "code",
   "execution_count": null,
   "metadata": {
    "collapsed": true
   },
   "outputs": [],
   "source": [
    "a = 31049\n",
    "b = 2105\n",
    "gcd (a , b ) == 1"
   ]
  },
  {
   "cell_type": "code",
   "execution_count": null,
   "metadata": {
    "collapsed": true
   },
   "outputs": [],
   "source": [
    "a = 3563\n",
    "b = 2947\n",
    "gcd (a , b ) == 1"
   ]
  },
  {
   "cell_type": "markdown",
   "metadata": {},
   "source": [
    "The command <button type=\"button\">xgcd(a,b)</button> (“eXtended GCD”) returns a triple where the first element is the\n",
    "greatest common divisor of a and b (as with the gcd(a,b) command above), but the next\n",
    "two elements are values of r and s such that ra + sb = gcd(a, b)."
   ]
  },
  {
   "cell_type": "code",
   "execution_count": null,
   "metadata": {
    "collapsed": true
   },
   "outputs": [],
   "source": [
    "xgcd (633 ,331)"
   ]
  },
  {
   "cell_type": "markdown",
   "metadata": {},
   "source": [
    "Portions of the triple can be extracted using [ ] (“indexing”) to access the entries of the\n",
    "triple, starting with the first as number 0. For example, the following should always return\n",
    "the result True, even if you change the values of a and b. Try changing the values of a and\n",
    "b below, to see that the result is always True."
   ]
  },
  {
   "cell_type": "code",
   "execution_count": null,
   "metadata": {
    "collapsed": false
   },
   "outputs": [],
   "source": [
    "a = 633\n",
    "b = 331\n",
    "extended = xgcd (a , b )\n",
    "g = extended [0]\n",
    "r = extended [1]\n",
    "s = extended [2]\n",
    "g == r * a + s * b"
   ]
  },
  {
   "cell_type": "markdown",
   "metadata": {},
   "source": [
    "The method <button type=\"button\">.is_prime()</button> will determine if an integer is prime or not."
   ]
  },
  {
   "cell_type": "code",
   "execution_count": null,
   "metadata": {
    "collapsed": false
   },
   "outputs": [],
   "source": [
    "a = 117371\n",
    "a . is_prime ()"
   ]
  },
  {
   "cell_type": "code",
   "execution_count": null,
   "metadata": {
    "collapsed": true
   },
   "outputs": [],
   "source": [
    "b = 14547073\n",
    "b . is_prime ()"
   ]
  },
  {
   "cell_type": "markdown",
   "metadata": {},
   "source": [
    "The command <button type=\"button\">random_prime(a, proof=True)</button> will generate a random prime number between\n",
    "2 and a. Experiment by executing the following two compute cells several times.\n",
    "(Replacing <button type=\"button\">proof=True</button> by <button type=\"button\">proof=False</button> will speed up the search, but there will be a very,\n",
    "very, very small probability the result will not be prime.)"
   ]
  },
  {
   "cell_type": "code",
   "execution_count": null,
   "metadata": {
    "collapsed": false
   },
   "outputs": [],
   "source": [
    "a = random_prime (10^21 , proof = True )\n",
    "a"
   ]
  },
  {
   "cell_type": "code",
   "execution_count": null,
   "metadata": {
    "collapsed": false
   },
   "outputs": [],
   "source": [
    "a . is_prime ()"
   ]
  },
  {
   "cell_type": "markdown",
   "metadata": {},
   "source": [
    "The commands <button type=\"button\">next_prime(a)</button> and <button type=\"button\">previous_prime(a)</button> are other ways to get a single prime number of a desired size. Try it Yourself.\n"
   ]
  },
  {
   "cell_type": "markdown",
   "metadata": {},
   "source": [
    "In addition to checking if integers are\n",
    "prime or not, or generating prime numbers, Sage can also decompose any integer into its\n",
    "prime factors, as described by the Fundamental Theorem of Arithmetic"
   ]
  },
  {
   "cell_type": "code",
   "execution_count": null,
   "metadata": {
    "collapsed": false
   },
   "outputs": [],
   "source": [
    "a = 2600\n",
    "a . factor ()"
   ]
  },
  {
   "cell_type": "markdown",
   "metadata": {},
   "source": [
    "So $2600 = 2^3 × 5^2 × 13 $ and this is the unique way to write 2600 as a product of prime\n",
    "numbers (other than rearranging the order of the primes themselves in the product)."
   ]
  },
  {
   "cell_type": "markdown",
   "metadata": {
    "deletable": true,
    "editable": true
   },
   "source": [
    "\n",
    "<h2><span>Lists and Loops</span></h2>\n",
    "<p>Now let's start talking the basics of how one might go about exploring questions with Sage.</p>\n",
    "<h3><span>Lists</span></h3>\n",
    "<p>The computer language for Sage is essentially that of Python, but with some sweetening to make it more mathematical.</p>\n",
    "<ul>\n",
    "<li>So we can make lists!</li>\n",
    "<li>And lists start numbering at ZERO.</li>\n",
    "</ul>\n",
    "<p>Remember, a list is basically an ordered set, placed between brackets and separated by commas.</p>"
   ]
  },
  {
   "cell_type": "code",
   "execution_count": null,
   "metadata": {
    "collapsed": false,
    "deletable": true,
    "editable": true
   },
   "outputs": [],
   "source": [
    "ls = [3.1, 4.5, 6.7, -2.8]; ls"
   ]
  },
  {
   "cell_type": "markdown",
   "metadata": {
    "deletable": true,
    "editable": true
   },
   "source": [
    "<p>(Typing two consecutive commands, separated by a semicolon, will do them both.)</p>\n",
    "<p>Although we won't use this much now, the elements of the ordered set or list can be pretty much anything - including other lists.</p>"
   ]
  },
  {
   "cell_type": "code",
   "execution_count": null,
   "metadata": {
    "collapsed": false,
    "deletable": true,
    "editable": true
   },
   "outputs": [],
   "source": [
    "my_list=[2, 'Ramanujan', [1,2,3] ]; my_list"
   ]
  },
  {
   "cell_type": "markdown",
   "metadata": {
    "deletable": true,
    "editable": true
   },
   "source": [
    "<p>Recall how to access elements of the list.  Try to explain the behaviors.</p>"
   ]
  },
  {
   "cell_type": "code",
   "execution_count": null,
   "metadata": {
    "collapsed": false,
    "deletable": true,
    "editable": true
   },
   "outputs": [],
   "source": [
    "my_list[1]"
   ]
  },
  {
   "cell_type": "code",
   "execution_count": null,
   "metadata": {
    "collapsed": false,
    "deletable": true,
    "editable": true
   },
   "outputs": [],
   "source": [
    "my_list[-1]"
   ]
  },
  {
   "cell_type": "code",
   "execution_count": null,
   "metadata": {
    "collapsed": false,
    "deletable": true,
    "editable": true
   },
   "outputs": [],
   "source": [
    "my_list[3]"
   ]
  },
  {
   "cell_type": "markdown",
   "metadata": {},
   "source": [
    "The command <button type=\"button\">prime_range(a, b)</button> returns an ordered list of all the primes from a to b − 1,\n",
    "inclusive. For example,"
   ]
  },
  {
   "cell_type": "code",
   "execution_count": null,
   "metadata": {
    "collapsed": true
   },
   "outputs": [],
   "source": [
    "prime_range (500 , 550)"
   ]
  },
  {
   "cell_type": "code",
   "execution_count": null,
   "metadata": {
    "collapsed": true
   },
   "outputs": [],
   "source": []
  },
  {
   "cell_type": "markdown",
   "metadata": {},
   "source": [
    "While Sage will print a factorization nicely, it is carried internally as a list of pairs of\n",
    "integers, with each pair being a base (a prime number) and an exponent (a positive integer).\n",
    "Study the following carefully, as it is another good exercise in working with Sage output in\n",
    "the form of lists"
   ]
  },
  {
   "cell_type": "code",
   "execution_count": null,
   "metadata": {
    "collapsed": true
   },
   "outputs": [],
   "source": [
    "a = 2600\n",
    "a . factor ()"
   ]
  },
  {
   "cell_type": "code",
   "execution_count": null,
   "metadata": {
    "collapsed": false
   },
   "outputs": [],
   "source": [
    "a = 2600\n",
    "factored = a . factor ()\n",
    "first_term = factored [0]\n",
    "first_term"
   ]
  },
  {
   "cell_type": "code",
   "execution_count": null,
   "metadata": {
    "collapsed": false
   },
   "outputs": [],
   "source": [
    "second_term = factored [1]\n",
    "second_term"
   ]
  },
  {
   "cell_type": "code",
   "execution_count": null,
   "metadata": {
    "collapsed": false
   },
   "outputs": [],
   "source": [
    "third_term = factored [2]\n",
    "third_term"
   ]
  },
  {
   "cell_type": "code",
   "execution_count": null,
   "metadata": {
    "collapsed": true
   },
   "outputs": [],
   "source": [
    "first_prime = first_term [0]\n",
    "first_prime"
   ]
  },
  {
   "cell_type": "code",
   "execution_count": null,
   "metadata": {
    "collapsed": true
   },
   "outputs": [],
   "source": [
    "first_exponent = first_term [1]\n",
    "first_exponent"
   ]
  },
  {
   "cell_type": "markdown",
   "metadata": {},
   "source": [
    "The next compute cell reveals the internal version of the factorization by asking for the\n",
    "actual list. And we show how you could determine exactly how many terms the factorization\n",
    "has by using the length command, <button type=\"button\">len()</button>."
   ]
  },
  {
   "cell_type": "code",
   "execution_count": null,
   "metadata": {
    "collapsed": true
   },
   "outputs": [],
   "source": [
    "list ( factored )"
   ]
  },
  {
   "cell_type": "code",
   "execution_count": null,
   "metadata": {
    "collapsed": true
   },
   "outputs": [],
   "source": [
    "len ( factored )"
   ]
  },
  {
   "cell_type": "markdown",
   "metadata": {},
   "source": [
    "Can you extract the next two primes, and their exponents, from a?"
   ]
  },
  {
   "cell_type": "markdown",
   "metadata": {
    "deletable": true,
    "editable": true
   },
   "source": [
    "<p>In Sage, it turns out that making a list of lists is a good way to organize our data, by using the table command.</p>"
   ]
  },
  {
   "cell_type": "code",
   "execution_count": null,
   "metadata": {
    "collapsed": false,
    "deletable": true,
    "editable": true
   },
   "outputs": [],
   "source": [
    "L = [[(3,4),6,3],[(4,5),12,6],[(3,6),'none',oo]]\n",
    "table(L,header_row=[\"a,b\",'conductor','number not possible'])"
   ]
  },
  {
   "cell_type": "code",
   "execution_count": null,
   "metadata": {
    "collapsed": false,
    "deletable": true,
    "editable": true
   },
   "outputs": [],
   "source": [
    "L = [[\"$(3,4)$\",\"$6$\",\"$3$\"],[\"$(4,5)$\",\"$12$\",\"$6$\"],[\"$(3,6)$\",'none',\"$\\infty$\"]]\n",
    "table(L,header_row=[\"$a,b$\",'conductor','number not possible'])"
   ]
  },
  {
   "cell_type": "markdown",
   "metadata": {
    "deletable": true,
    "editable": true
   },
   "source": [
    "<p>This is a good use for lists - making things easy to communicate to others!</p>\n",
    "\n",
    "\n",
    "\n",
    "<h3>Loops</h3>\n",
    "<p>A related concept you should have also seen in your previous Python class is a <em>loop</em>. Loops make doing tedious things many times easier.</p>\n",
    "<p>Here is an example getting the determinant of powers of a matrix.  I <em>could</em> do it \"by hand\".</p>"
   ]
  },
  {
   "cell_type": "code",
   "execution_count": null,
   "metadata": {
    "collapsed": false,
    "deletable": true,
    "editable": true
   },
   "outputs": [],
   "source": [
    "A = matrix([[1,2],[3,4]])\n",
    "print det(A^0)\n",
    "print det(A^1)\n",
    "print det(A^2)\n",
    "print det(A^3)\n",
    "print det(A^4)"
   ]
  },
  {
   "cell_type": "markdown",
   "metadata": {
    "deletable": true,
    "editable": true
   },
   "source": [
    "<p>This is not terrible, but it's not exactly nice either.  Instead, let's use a loop.</p>"
   ]
  },
  {
   "cell_type": "code",
   "execution_count": null,
   "metadata": {
    "collapsed": false,
    "deletable": true,
    "editable": true
   },
   "outputs": [],
   "source": [
    "for i in [0,1,2,3,4]:\n",
    "    print det(A^i)"
   ]
  },
  {
   "cell_type": "markdown",
   "metadata": {
    "deletable": true,
    "editable": true
   },
   "source": [
    "<p>What did we do?  </p>\n",
    "<ul>\n",
    "<li>For (each) $i$ in the list (ordered set) [0,1,2,3,4], (return) $A^i$.  </li>\n",
    "</ul>\n",
    "<p>The square brackets created a list, and the powers of the original matrix come in the same order as the list.</p>\n",
    "<p>Remember, the colon in the first line and the indentation in the second line are <strong>extremely</strong> important; they are the basic syntactical structure of Python.</p>"
   ]
  },
  {
   "cell_type": "code",
   "execution_count": null,
   "metadata": {
    "collapsed": false,
    "deletable": true,
    "editable": true
   },
   "outputs": [],
   "source": [
    "for i in [0,1,2,3,4]\n",
    "    A^i"
   ]
  },
  {
   "cell_type": "code",
   "execution_count": null,
   "metadata": {
    "collapsed": false,
    "deletable": true,
    "editable": true
   },
   "outputs": [],
   "source": [
    "for i in [0,1,2,3,4]:\n",
    "A^i"
   ]
  },
  {
   "cell_type": "markdown",
   "metadata": {
    "deletable": true,
    "editable": true
   },
   "source": [
    "<h3>Streamlining</h3>\n",
    "<p>For the curious, it's worth knowing there are quicker ways to make the possible values for $i$ quicker to write.  Here are two possible options.</p>"
   ]
  },
  {
   "cell_type": "code",
   "execution_count": null,
   "metadata": {
    "collapsed": false,
    "deletable": true,
    "editable": true
   },
   "outputs": [],
   "source": [
    "for i in [0..4]:\n",
    "    print det(A^i)"
   ]
  },
  {
   "cell_type": "code",
   "execution_count": null,
   "metadata": {
    "collapsed": false,
    "deletable": true,
    "editable": true
   },
   "outputs": [],
   "source": [
    "for i in range(5):\n",
    "    print det(A^i)"
   ]
  },
  {
   "cell_type": "markdown",
   "metadata": {
    "deletable": true,
    "editable": true
   },
   "source": [
    "<p>Notice that the \"range(5)\" starts counting at zero and ends <em>before</em> reaching five; this is standard behavior.  You can get other behavior, too.</p>"
   ]
  },
  {
   "cell_type": "code",
   "execution_count": null,
   "metadata": {
    "collapsed": false,
    "deletable": true,
    "editable": true
   },
   "outputs": [],
   "source": [
    "range(3, 23, 2); [3,5..21]"
   ]
  },
  {
   "cell_type": "markdown",
   "metadata": {
    "deletable": true,
    "editable": true
   },
   "source": [
    "<h3><span>List Comprehensions</span> </h3>\n",
    "<p>There is a very powerful way to create such lists in a way that looks like a loop.</p>\n",
    "<p>This way also looks like mathematical notation. It is called a <em>list comprehension</em>. </p>\n",
    "<p>We start with a relatively easy example: $$\\{n^2\\mid n\\in\\ZZ, 3 \\leq n \\leq 12\\}$$  Who hasn't written something like this at some point?</p>\n",
    "<p>Here's how to translate this into Sage:</p>"
   ]
  },
  {
   "cell_type": "code",
   "execution_count": null,
   "metadata": {
    "collapsed": false,
    "deletable": true,
    "editable": true
   },
   "outputs": [],
   "source": [
    "[ n^2 for n in [3..12] ]"
   ]
  },
  {
   "cell_type": "markdown",
   "metadata": {
    "deletable": true,
    "editable": true
   },
   "source": [
    "<p>The notation is easiest if you think of it mathematically; \"The set of $n^2$, for (any) $n$ in the range between 3 and 12.\"</p>\n",
    "\n",
    "<p>This sort of construction works for lots of things of mathematical interest, of course - such as our first example.</p>"
   ]
  },
  {
   "cell_type": "code",
   "execution_count": null,
   "metadata": {
    "collapsed": false,
    "deletable": true,
    "editable": true
   },
   "outputs": [],
   "source": [
    "[ det(A^i) for i in [0..4] ]"
   ]
  },
  {
   "cell_type": "markdown",
   "metadata": {
    "deletable": true,
    "editable": true
   },
   "source": [
    "<h2 id=\"Defs\"><span>Pause 1</span></h2>\n",
    "<p><span>How could we use lists and loops to explore the conductor?  </span></p>\n",
    "<ul>\n",
    "<li><span>What would I want to make a list of?</span></li>\n",
    "<li><span>Can I list <em>all</em> numbers of the form $3x+4y$?</span></li>\n",
    "<li><span>How would I list <em>some</em> numbers of this form?  (Hint: fix one of the variables.)</span></li>\n",
    "<li><span>How would I list <em>more</em> numbers of this form? (</span>Hint: make a loop <em>inside</em> of a loop.)</li>\n",
    "<li>Can you turn this into a list and not just a loop? </li>\n",
    "<li>I know you have done dictionaries in your python course. Can you try to use dictionaries for this? </li>\n",
    "</ul>\n",
    "<h2><span>Defining Functions (Extending Sage)</span></h2>\n",
    "<p>Hopefully you will experience success with your exploration!  Still, it is kind of annoying that there isn't just a simple command for it.</p>\n",
    "<p>In fact, it is often the case that Sage can do something, but doesn't have a simple command for it.  For instance, you might want to take a matrix and output the square of that matrix minus the original matrix.</p>"
   ]
  },
  {
   "cell_type": "code",
   "execution_count": null,
   "metadata": {
    "collapsed": false,
    "deletable": true,
    "editable": true
   },
   "outputs": [],
   "source": [
    "A = matrix([[1,2],[3,4]])\n",
    "A^2 - A"
   ]
  },
  {
   "cell_type": "markdown",
   "metadata": {
    "deletable": true,
    "editable": true
   },
   "source": [
    "<p>How might one do this for other matrices?  Of course, you could just always do $A^2-A$ again and again.  But this would be tedious and hard to follow, as with so many things that motivate a little programming.  Here is how Python and Sage solve this problem.</p>"
   ]
  },
  {
   "cell_type": "code",
   "execution_count": null,
   "metadata": {
    "collapsed": false,
    "deletable": true,
    "editable": true
   },
   "outputs": [],
   "source": [
    "def square_and_subtract(mymatrix):\n",
    "    return mymatrix^2 - mymatrix"
   ]
  },
  {
   "cell_type": "markdown",
   "metadata": {
    "deletable": true,
    "editable": true
   },
   "source": [
    "<p>The 'def' command has created a new function called 'square_and_subtract'.  It should even be available using tab-completion.</p>\n",
    "<p>Here are things to recall about constructing Python functions from your previous course.</p>\n",
    "<ul>\n",
    "<li>We use the predefined \"def\" and then the name we want to give the function.</li>\n",
    "<li>The name we want to use for the input is inside the parentheses.</li>\n",
    "<li>The indentation and colon are crucial, as with loops.</li>\n",
    "<li>We then end with a <em>return value</em>, given by 'return'.  This is what Sage will give below the input cell.</li>\n",
    "</ul>"
   ]
  },
  {
   "cell_type": "code",
   "execution_count": null,
   "metadata": {
    "collapsed": false,
    "deletable": true,
    "editable": true
   },
   "outputs": [],
   "source": [
    "square_and_subtract(A)"
   ]
  },
  {
   "cell_type": "code",
   "execution_count": null,
   "metadata": {
    "collapsed": false,
    "deletable": true,
    "editable": true
   },
   "outputs": [],
   "source": [
    "square_and_subtract(matrix([[1.5,0],[0,2]]))"
   ]
  },
  {
   "cell_type": "markdown",
   "metadata": {
    "deletable": true,
    "editable": true
   },
   "source": [
    "<p>As a technical matter, this is only a <em>Python function</em>, not a Sage symbolic function (callable expression).  That means it does not have access to all the same things as we discussed earlier today.  That is okay, as it is often better for a function not to live in the symbolic algebra world.</p>\n",
    "\n",
    "<p>What if we are worried about forgetting what this function does?  To be fair, we chose a great name for it.  Still, just in case, we can provide a documentation string, putting it in triple quotes \"\"\".</p>"
   ]
  },
  {
   "cell_type": "code",
   "execution_count": null,
   "metadata": {
    "collapsed": false,
    "deletable": true,
    "editable": true
   },
   "outputs": [],
   "source": [
    "def square_and_subtract(mymatrix):\n",
    "    \"\"\"\n",
    "    Return `A^2-A`\n",
    "    \"\"\"\n",
    "    return mymatrix^2-mymatrix"
   ]
  },
  {
   "cell_type": "code",
   "execution_count": null,
   "metadata": {
    "collapsed": false,
    "deletable": true,
    "editable": true
   },
   "outputs": [],
   "source": [
    "square_and_subtract?"
   ]
  },
  {
   "cell_type": "markdown",
   "metadata": {
    "deletable": true,
    "editable": true
   },
   "source": [
    "<p>That's pretty cool!  And potentially quite helpful, especially if the function is complicated.  The $A$ typesets properly because we put it in backticks `A`.</p>\n",
    "<p>(For the <em>real</em> experts, one can use \"raw strings\" to include backslashes (say, for LaTeX) in these documentation strings, like r\"\"\"\\frac{a}{b}\"\"\".  Look at the <a href=\"http://www.sagemath.org/doc/reference/functions/sage/functions/bessel.html\" target=\"_blank\">documentation for Bessel functions</a> for some great examples.)</p>\n",
    "<p> </p>\n",
    "<p>A very careful reader <em>may</em> have noticed that there is nothing that requires the input 'mymatrix' to be a matrix.  Sage will just try to square whatever you give it and subtract the original thing.</p>"
   ]
  },
  {
   "cell_type": "code",
   "execution_count": null,
   "metadata": {
    "collapsed": false,
    "deletable": true,
    "editable": true
   },
   "outputs": [],
   "source": [
    "square_and_subtract(sqrt(5))"
   ]
  },
  {
   "cell_type": "markdown",
   "metadata": {
    "deletable": true,
    "editable": true
   },
   "source": [
    "<p>Functions are very flexible in what input they can allow or require, as well as what output they give.  Below are three examples that show some of this flexibility.   There are <a href=\"http://www.greenteapress.com/thinkpython/html/thinkpython007.html\" target=\"_blank\">many</a> <a href=\"http://www.learnpython.org/en/Multiple_Function_Arguments\" target=\"_blank\">other</a> good <a href=\"http://learnpythonthehardway.org/book/ex21.html\" target=\"_blank\">resources</a> out there.</p>"
   ]
  },
  {
   "cell_type": "code",
   "execution_count": null,
   "metadata": {
    "collapsed": false,
    "deletable": true,
    "editable": true
   },
   "outputs": [],
   "source": [
    "def func1( y, z ):\n",
    "    return y+z"
   ]
  },
  {
   "cell_type": "code",
   "execution_count": null,
   "metadata": {
    "collapsed": false,
    "deletable": true,
    "editable": true
   },
   "outputs": [],
   "source": [
    "def func2( y, z=3):\n",
    "    return y+z"
   ]
  },
  {
   "cell_type": "code",
   "execution_count": null,
   "metadata": {
    "collapsed": false,
    "deletable": true,
    "editable": true
   },
   "outputs": [],
   "source": [
    "def func3( y ):\n",
    "    return y, y+3"
   ]
  },
  {
   "cell_type": "markdown",
   "metadata": {
    "deletable": true,
    "editable": true
   },
   "source": [
    "<h2>Pause 2</h2>\n",
    "<p>Could we use functions to explore our question?</p>\n",
    "<ul>\n",
    "<li>Could you write a function that lists all numbers of the form $3x+4$, given some range of $x$?</li>\n",
    "<li>What about of the form $3x+8=3x+4\\cdot 2$?</li>\n",
    "<li>What about of the form $3x+4y$?  Note that here you will have TWO ranges to consider, that of $x$ and that of $y$.</li>\n",
    "<li>Are your lists sorted or not?  Can you think of a way to fix that?</li>\n",
    "<li>What about for the form $4x+5y$?</li>\n",
    "<li>What about for $ax+by$?</li>\n",
    "</ul>"
   ]
  },
  {
   "cell_type": "markdown",
   "metadata": {
    "collapsed": false,
    "deletable": true,
    "editable": true
   },
   "source": [
    "<h2>Exercises</h2>\n",
    "\n",
    "These exercises are about investigating basic properties of the integers, something we will\n",
    "frequently do when investigating groups.\n",
    "\n",
    "1. Use the <button type=\"button\"> next_prime()</button> command to construct \n",
    "two different 8-digit prime numbers and save them in variables named a and b.\n",
    "\n",
    "2. Use the <button type=\"button\">.is_prime()</button> method to verify that your primes a and b are really prime.\n",
    "\n",
    "3. Verify that 1 is the greatest common divisor of your two primes from the previous\n",
    "exercises.\n",
    "\n",
    "4. Find two integers that make a “linear combination” of your two primes equal to 1.\n",
    "Include a verification of your result.\n",
    "\n",
    "5. Determine a factorization into powers of primes for c = 4598037234\n",
    "\n",
    "6. Write a computer program that will implement the Euclidean algorithm. The program\n",
    "should accept two positive integers a and b as input and should output gcd(a, b) as well as\n",
    "integers r and s such that\n",
    "\n"
   ]
  },
  {
   "cell_type": "code",
   "execution_count": null,
   "metadata": {
    "collapsed": true
   },
   "outputs": [],
   "source": []
  }
 ],
 "metadata": {
  "kernelspec": {
   "display_name": "SageMath 7.4",
   "language": "",
   "name": "sagemath"
  },
  "language": "python",
  "language_info": {
   "codemirror_mode": {
    "name": "ipython",
    "version": 2
   },
   "file_extension": ".py",
   "mimetype": "text/x-python",
   "name": "python",
   "nbconvert_exporter": "python",
   "pygments_lexer": "ipython2",
   "version": "2.7.13"
  }
 },
 "nbformat": 4,
 "nbformat_minor": 2
}
